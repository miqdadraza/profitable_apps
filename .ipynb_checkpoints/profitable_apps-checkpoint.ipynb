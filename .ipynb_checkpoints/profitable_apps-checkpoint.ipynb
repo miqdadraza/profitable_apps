{
 "cells": [
  {
   "cell_type": "markdown",
   "metadata": {},
   "source": [
    "# Profitable App Profiles\n",
    "\n",
    "## About Project:\n",
    "In this project, we will be analysing data about apps from the Apple app store as well as the Android app store.\n",
    "\n",
    "## Goal of Project:\n",
    "Our goal is to help developers understand what kind of apps are more likely to be downloaded by users, and what kinda of apps are possibly profitable.\n",
    "\n",
    "### Dataset sources:\n",
    "[**Android (Google Playstore) Dataset**](https://www.kaggle.com/lava18/google-play-store-apps)\n",
    "\n",
    "[**Apple App Store Dataset**](https://www.kaggle.com/ramamet4/app-store-apple-data-set-10k-apps)"
   ]
  },
  {
   "cell_type": "code",
   "execution_count": 1,
   "metadata": {},
   "outputs": [],
   "source": [
    "from csv import reader\n",
    "def open_dataset(dataset, header = True): #defining function, takes two input parameters\n",
    "    opened_file = open(dataset)\n",
    "    read_file = reader(opened_file)\n",
    "    data = list(read_file) #converts the file into a list\n",
    "    if header:\n",
    "        header_dataset = data[0]\n",
    "        list_dataset = data[1:]\n",
    "        return header_dataset, list_dataset #if there is a header, a tuple of the header and data will be returned\n",
    "    else:\n",
    "        list_dataset = data[0:]\n",
    "        return list_dataset #if there is no header, the data will be returned"
   ]
  },
  {
   "cell_type": "code",
   "execution_count": 2,
   "metadata": {},
   "outputs": [],
   "source": [
    "#opening the Android data set\n",
    "android_data = open_dataset('googleplaystore.csv')\n",
    "android_data_header, android_dataset = android_data #assigning variables to the header and actual data\n",
    "#print(android_dataset)\n",
    "\n",
    "#opening the Apple data set\n",
    "apple_data = open_dataset('AppleStore.csv')\n",
    "apple_data_header, apple_dataset = apple_data #assigning variables to the header and actual data\n",
    "#print(apple_data_header)"
   ]
  },
  {
   "cell_type": "markdown",
   "metadata": {},
   "source": [
    "In the section above, we put the Android and the Apple csv datasets into a function, and then defined two variables for each of the dataset. One variable is just the header of thd dataset, while the second variable is the full dataset without the header."
   ]
  },
  {
   "cell_type": "markdown",
   "metadata": {},
   "source": [
    "### Exploring our datasets"
   ]
  },
  {
   "cell_type": "code",
   "execution_count": 3,
   "metadata": {},
   "outputs": [],
   "source": [
    "def explore_data(dataset, start, end, rows_and_columns=False): #dataset takes in list, start and end take in integers\n",
    "    dataset_slice = dataset[start:end]    \n",
    "    for row in dataset_slice:\n",
    "        print(row)\n",
    "        print('\\n') # adds a new (empty) line after each row\n",
    "\n",
    "    if rows_and_columns:\n",
    "        print('Number of rows:', len(dataset))\n",
    "        print('Number of columns:', len(dataset[0]))"
   ]
  },
  {
   "cell_type": "code",
   "execution_count": 4,
   "metadata": {},
   "outputs": [
    {
     "name": "stdout",
     "output_type": "stream",
     "text": [
      "This is the first 6 rows of the Android dataset\n",
      "\n",
      "['Photo Editor & Candy Camera & Grid & ScrapBook', 'ART_AND_DESIGN', '4.1', '159', '19M', '10,000+', 'Free', '0', 'Everyone', 'Art & Design', 'January 7, 2018', '1.0.0', '4.0.3 and up']\n",
      "\n",
      "\n",
      "['Coloring book moana', 'ART_AND_DESIGN', '3.9', '967', '14M', '500,000+', 'Free', '0', 'Everyone', 'Art & Design;Pretend Play', 'January 15, 2018', '2.0.0', '4.0.3 and up']\n",
      "\n",
      "\n",
      "['U Launcher Lite – FREE Live Cool Themes, Hide Apps', 'ART_AND_DESIGN', '4.7', '87510', '8.7M', '5,000,000+', 'Free', '0', 'Everyone', 'Art & Design', 'August 1, 2018', '1.2.4', '4.0.3 and up']\n",
      "\n",
      "\n",
      "['Sketch - Draw & Paint', 'ART_AND_DESIGN', '4.5', '215644', '25M', '50,000,000+', 'Free', '0', 'Teen', 'Art & Design', 'June 8, 2018', 'Varies with device', '4.2 and up']\n",
      "\n",
      "\n",
      "['Pixel Draw - Number Art Coloring Book', 'ART_AND_DESIGN', '4.3', '967', '2.8M', '100,000+', 'Free', '0', 'Everyone', 'Art & Design;Creativity', 'June 20, 2018', '1.1', '4.4 and up']\n",
      "\n",
      "\n",
      "Number of rows: 10841\n",
      "Number of columns: 13\n",
      "\n",
      "These are the column names for the Android dataset:\n",
      "\n",
      "App\n",
      "Category\n",
      "Rating\n",
      "Reviews\n",
      "Size\n",
      "Installs\n",
      "Type\n",
      "Price\n",
      "Content Rating\n",
      "Genres\n",
      "Last Updated\n",
      "Current Ver\n",
      "Android Ver\n"
     ]
    }
   ],
   "source": [
    "#showing the first 6 rows of the Apple and Android datasets, with how many rows and columns there are. The header columns are not counted because the variable accounts for that\n",
    "print(\"This is the first 6 rows of the Android dataset\\n\")\n",
    "explore_data(android_dataset, 0, 5, rows_and_columns=True) #android dataset, keyword argument\n",
    "\n",
    "\n",
    "print(\"\\nThese are the column names for the Android dataset:\\n\")\n",
    "print(\"\\n\".join(android_data_header))\n",
    "\n",
    "\n"
   ]
  },
  {
   "cell_type": "markdown",
   "metadata": {},
   "source": [
    "We can see the first 6 rows of the Android dataset, without the headers. The number of rows is 10841, and the number of columns is 13. The column names are listed above."
   ]
  },
  {
   "cell_type": "code",
   "execution_count": 5,
   "metadata": {},
   "outputs": [
    {
     "name": "stdout",
     "output_type": "stream",
     "text": [
      "\n",
      "This is the first 6 rows of the Apple dataset\n",
      "['284882215', 'Facebook', '389879808', 'USD', '0.0', '2974676', '212', '3.5', '3.5', '95.0', '4+', 'Social Networking', '37', '1', '29', '1']\n",
      "\n",
      "\n",
      "['389801252', 'Instagram', '113954816', 'USD', '0.0', '2161558', '1289', '4.5', '4.0', '10.23', '12+', 'Photo & Video', '37', '0', '29', '1']\n",
      "\n",
      "\n",
      "['529479190', 'Clash of Clans', '116476928', 'USD', '0.0', '2130805', '579', '4.5', '4.5', '9.24.12', '9+', 'Games', '38', '5', '18', '1']\n",
      "\n",
      "\n",
      "['420009108', 'Temple Run', '65921024', 'USD', '0.0', '1724546', '3842', '4.5', '4.0', '1.6.2', '9+', 'Games', '40', '5', '1', '1']\n",
      "\n",
      "\n",
      "['284035177', 'Pandora - Music & Radio', '130242560', 'USD', '0.0', '1126879', '3594', '4.0', '4.5', '8.4.1', '12+', 'Music', '37', '4', '1', '1']\n",
      "\n",
      "\n",
      "Number of rows: 7197\n",
      "Number of columns: 16\n",
      "\n",
      "These are the column names for the Apple dataset:\n",
      "\n",
      "id\n",
      "track_name\n",
      "size_bytes\n",
      "currency\n",
      "price\n",
      "rating_count_tot\n",
      "rating_count_ver\n",
      "user_rating\n",
      "user_rating_ver\n",
      "ver\n",
      "cont_rating\n",
      "prime_genre\n",
      "sup_devices.num\n",
      "ipadSc_urls.num\n",
      "lang.num\n",
      "vpp_lic\n"
     ]
    }
   ],
   "source": [
    "print(\"\\nThis is the first 6 rows of the Apple dataset\")\n",
    "explore_data(apple_dataset, 0, 5, True) #positional argument\n",
    "\n",
    "print(\"\\nThese are the column names for the Apple dataset:\\n\")\n",
    "print(\"\\n\".join(apple_data_header))"
   ]
  },
  {
   "cell_type": "markdown",
   "metadata": {},
   "source": [
    "We can see the first 6 rows of the Android dataset, without the headers. The number of rows is 7197, and the number of columns is 16. The column names are listed above. The documentation to understand the column names can be found [here](https://www.kaggle.com/ramamet4/app-store-apple-data-set-10k-apps/home)."
   ]
  },
  {
   "cell_type": "markdown",
   "metadata": {},
   "source": [
    "### Finding wrong/incorrect data"
   ]
  },
  {
   "cell_type": "code",
   "execution_count": 6,
   "metadata": {},
   "outputs": [
    {
     "name": "stdout",
     "output_type": "stream",
     "text": [
      "The wrong data row is:\n",
      "['Life Made WI-Fi Touchscreen Photo Frame', '1.9', '19', '3.0M', '1,000+', 'Free', '0', 'Everyone', '', 'February 11, 2018', '1.0.19', '4.0 and up']\n",
      "\n",
      "\n",
      "Index of the wrong row is 10472\n",
      "\n",
      "The headers of the Android dataset are:\n",
      "\n",
      "['App', 'Category', 'Rating', 'Reviews', 'Size', 'Installs', 'Type', 'Price', 'Content Rating', 'Genres', 'Last Updated', 'Current Ver', 'Android Ver']\n",
      "\n",
      "A normal row in an Android dataset looks like:\n",
      "\n",
      "['Sketch - Draw & Paint', 'ART_AND_DESIGN', '4.5', '215644', '25M', '50,000,000+', 'Free', '0', 'Teen', 'Art & Design', 'June 8, 2018', 'Varies with device', '4.2 and up']\n"
     ]
    }
   ],
   "source": [
    "#trying to find wrong data in the Android dataset\n",
    "for row in android_dataset:\n",
    "    if len(row) != len(android_data_header):\n",
    "        print(\"The wrong data row is:\")\n",
    "        print(row)\n",
    "        print(\"\\n\")\n",
    "        print(\"Index of the wrong row is \" + str(android_dataset.index(row)))\n",
    "\n",
    "print(\"\\nThe headers of the Android dataset are:\\n\")\n",
    "print(android_data_header)\n",
    "\n",
    "print(\"\\nA normal row in an Android dataset looks like:\\n\")\n",
    "print(android_dataset[3])\n",
    "        "
   ]
  },
  {
   "cell_type": "markdown",
   "metadata": {},
   "source": [
    "It seems that row 10472 is missing the **Category** data, shifting everything by one cell."
   ]
  },
  {
   "cell_type": "code",
   "execution_count": 7,
   "metadata": {},
   "outputs": [
    {
     "name": "stdout",
     "output_type": "stream",
     "text": [
      "['Photo Editor & Candy Camera & Grid & ScrapBook', 'ART_AND_DESIGN', '4.1', '159', '19M', '10,000+', 'Free', '0', 'Everyone', 'Art & Design', 'January 7, 2018', '1.0.0', '4.0.3 and up']\n",
      "\n",
      "\n",
      "['Coloring book moana', 'ART_AND_DESIGN', '3.9', '967', '14M', '500,000+', 'Free', '0', 'Everyone', 'Art & Design;Pretend Play', 'January 15, 2018', '2.0.0', '4.0.3 and up']\n",
      "\n",
      "\n",
      "['U Launcher Lite – FREE Live Cool Themes, Hide Apps', 'ART_AND_DESIGN', '4.7', '87510', '8.7M', '5,000,000+', 'Free', '0', 'Everyone', 'Art & Design', 'August 1, 2018', '1.2.4', '4.0.3 and up']\n",
      "\n",
      "\n",
      "['Sketch - Draw & Paint', 'ART_AND_DESIGN', '4.5', '215644', '25M', '50,000,000+', 'Free', '0', 'Teen', 'Art & Design', 'June 8, 2018', 'Varies with device', '4.2 and up']\n",
      "\n",
      "\n",
      "['Pixel Draw - Number Art Coloring Book', 'ART_AND_DESIGN', '4.3', '967', '2.8M', '100,000+', 'Free', '0', 'Everyone', 'Art & Design;Creativity', 'June 20, 2018', '1.1', '4.4 and up']\n",
      "\n",
      "\n",
      "Number of rows: 10840\n",
      "Number of columns: 13\n"
     ]
    }
   ],
   "source": [
    "corrected_android_dataset = android_dataset[:10472] + android_dataset[10473:] #new dataset without the wrong data\n",
    "#print(corrected_android_dataset[10470:10480])\n",
    "explore_data(corrected_android_dataset, 0, 5, rows_and_columns=True)"
   ]
  },
  {
   "cell_type": "markdown",
   "metadata": {},
   "source": [
    "The wrong data row has been removed, and the new corrected data set is stored in the variable `corrected_android_dataset`. The new number of rows is 10840, and columns remain the same."
   ]
  },
  {
   "cell_type": "markdown",
   "metadata": {},
   "source": [
    "### Removing duplicate entries\n",
    "\n",
    "If the Android dataset is looked at, we will see that it contains duplicate entries. This section will see what duplicate entries there are and what is the criteria to remove the duplicate entries."
   ]
  },
  {
   "cell_type": "code",
   "execution_count": 8,
   "metadata": {},
   "outputs": [
    {
     "name": "stdout",
     "output_type": "stream",
     "text": [
      "There are 9659 unique apps. Some of the unique apps are:\n",
      "\n",
      "Photo Editor & Candy Camera & Grid & ScrapBook\n",
      "Coloring book moana\n",
      "U Launcher Lite – FREE Live Cool Themes, Hide Apps\n",
      "Sketch - Draw & Paint\n",
      "Pixel Draw - Number Art Coloring Book\n",
      "Paper flowers instructions\n",
      "Smoke Effect Photo Maker - Smoke Editor\n",
      "Infinite Painter\n",
      "Garden Coloring Book\n",
      "Kids Paint Free - Drawing Fun\n",
      "Text on Photo - Fonteee\n",
      "Name Art Photo Editor - Focus n Filters\n",
      "Tattoo Name On My Photo Editor\n",
      "Mandala Coloring Book\n",
      "3D Color Pixel by Number - Sandbox Art Coloring\n",
      "\n",
      "\n",
      "There are 1181 duplicate apps. Some of the duplicate apps are:\n",
      "\n",
      "Quick PDF Scanner + OCR FREE\n",
      "Box\n",
      "Google My Business\n",
      "ZOOM Cloud Meetings\n",
      "join.me - Simple Meetings\n",
      "Box\n",
      "Zenefits\n",
      "Google Ads\n",
      "Google My Business\n",
      "Slack\n",
      "FreshBooks Classic\n",
      "Insightly CRM\n",
      "QuickBooks Accounting: Invoicing & Expenses\n",
      "HipChat - Chat Built for Teams\n",
      "Xero Accounting Software\n",
      "\n",
      "\n",
      "An example of a duplicate app is Instagram. Only difference in the rows is that the rating is different (index 3):\n",
      "\n",
      "['Instagram', 'SOCIAL', '4.5', '66577313', 'Varies with device', '1,000,000,000+', 'Free', '0', 'Teen', 'Social', 'July 31, 2018', 'Varies with device', 'Varies with device']\n",
      "['Instagram', 'SOCIAL', '4.5', '66577446', 'Varies with device', '1,000,000,000+', 'Free', '0', 'Teen', 'Social', 'July 31, 2018', 'Varies with device', 'Varies with device']\n",
      "['Instagram', 'SOCIAL', '4.5', '66577313', 'Varies with device', '1,000,000,000+', 'Free', '0', 'Teen', 'Social', 'July 31, 2018', 'Varies with device', 'Varies with device']\n",
      "['Instagram', 'SOCIAL', '4.5', '66509917', 'Varies with device', '1,000,000,000+', 'Free', '0', 'Teen', 'Social', 'July 31, 2018', 'Varies with device', 'Varies with device']\n"
     ]
    }
   ],
   "source": [
    "#initializing 2 lists for unique and duplicate apps\n",
    "unique_android_apps = []\n",
    "duplicate_android_apps = []\n",
    "for app in corrected_android_dataset:\n",
    "    name = app[0]\n",
    "    \n",
    "    if name in unique_android_apps:\n",
    "        duplicate_android_apps.append(name)\n",
    "    else:\n",
    "        unique_android_apps.append(name)\n",
    "\n",
    "print(\"There are \" + str(len(unique_android_apps)) + \" unique apps. Some of the unique apps are:\\n\")\n",
    "print(\"\\n\".join(unique_android_apps[:15]))\n",
    "print(\"\\n\")\n",
    "\n",
    "print(\"There are \" + str(len(duplicate_android_apps)) + \" duplicate apps. Some of the duplicate apps are:\\n\")\n",
    "print(\"\\n\".join(duplicate_android_apps[:15]))\n",
    "print(\"\\n\")\n",
    "print(\"An example of a duplicate app is Instagram. Only difference in the rows is that the rating is different (index 3):\\n\")\n",
    "for app in corrected_android_dataset:\n",
    "    name = app[0]\n",
    "    if name == 'Instagram':\n",
    "        print(app)"
   ]
  },
  {
   "cell_type": "markdown",
   "metadata": {},
   "source": [
    "We can see that there are 1181 duplicate app listings in the Android dataset. Since the only difference between these entries is the rating, we can use this to our advantage, to remove duplicate app listings. If the rating is more, we can assuume that the data was collected most recently, and thus we keep that listing, and remove the others."
   ]
  },
  {
   "cell_type": "code",
   "execution_count": 13,
   "metadata": {},
   "outputs": [
    {
     "name": "stdout",
     "output_type": "stream",
     "text": [
      "The number of items in the dictionary are: 9659\n"
     ]
    }
   ],
   "source": [
    "reviews_max = {}\n",
    "for app in corrected_android_dataset:\n",
    "    name = app[0]\n",
    "    n_reviews = float(app[3])\n",
    "    \n",
    "    if name in reviews_max and reviews_max[name] < n_reviews: #if the app name already exixts as a key in the dictionary, and the reviews in the dict are LESS than the new row, then we update the dictionary\n",
    "        reviews_max[name] = n_reviews\n",
    "        \n",
    "    if name not in reviews_max: #if the app does not exist, we add it into the dictionary\n",
    "        reviews_max[name] = n_reviews\n",
    "        \n",
    "print(\"The number of items in the dictionary are: \" + str(len(reviews_max.keys())))"
   ]
  },
  {
   "cell_type": "markdown",
   "metadata": {},
   "source": [
    "We now have a dictionary where the key is the unique name of the app, and the value is the max number of reviews."
   ]
  },
  {
   "cell_type": "code",
   "execution_count": 17,
   "metadata": {},
   "outputs": [
    {
     "name": "stdout",
     "output_type": "stream",
     "text": [
      "To make sure everything went like we wanted it to, we explore the data from the new android_clean dataset\n",
      "\n",
      "['Photo Editor & Candy Camera & Grid & ScrapBook', 'ART_AND_DESIGN', '4.1', '159', '19M', '10,000+', 'Free', '0', 'Everyone', 'Art & Design', 'January 7, 2018', '1.0.0', '4.0.3 and up']\n",
      "\n",
      "\n",
      "['U Launcher Lite – FREE Live Cool Themes, Hide Apps', 'ART_AND_DESIGN', '4.7', '87510', '8.7M', '5,000,000+', 'Free', '0', 'Everyone', 'Art & Design', 'August 1, 2018', '1.2.4', '4.0.3 and up']\n",
      "\n",
      "\n",
      "['Sketch - Draw & Paint', 'ART_AND_DESIGN', '4.5', '215644', '25M', '50,000,000+', 'Free', '0', 'Teen', 'Art & Design', 'June 8, 2018', 'Varies with device', '4.2 and up']\n",
      "\n",
      "\n",
      "['Pixel Draw - Number Art Coloring Book', 'ART_AND_DESIGN', '4.3', '967', '2.8M', '100,000+', 'Free', '0', 'Everyone', 'Art & Design;Creativity', 'June 20, 2018', '1.1', '4.4 and up']\n",
      "\n",
      "\n",
      "['Paper flowers instructions', 'ART_AND_DESIGN', '4.4', '167', '5.6M', '50,000+', 'Free', '0', 'Everyone', 'Art & Design', 'March 26, 2017', '1.0', '2.3 and up']\n",
      "\n",
      "\n",
      "['Smoke Effect Photo Maker - Smoke Editor', 'ART_AND_DESIGN', '3.8', '178', '19M', '50,000+', 'Free', '0', 'Everyone', 'Art & Design', 'April 26, 2018', '1.1', '4.0.3 and up']\n",
      "\n",
      "\n",
      "['Infinite Painter', 'ART_AND_DESIGN', '4.1', '36815', '29M', '1,000,000+', 'Free', '0', 'Everyone', 'Art & Design', 'June 14, 2018', '6.1.61.1', '4.2 and up']\n",
      "\n",
      "\n",
      "['Garden Coloring Book', 'ART_AND_DESIGN', '4.4', '13791', '33M', '1,000,000+', 'Free', '0', 'Everyone', 'Art & Design', 'September 20, 2017', '2.9.2', '3.0 and up']\n",
      "\n",
      "\n",
      "['Kids Paint Free - Drawing Fun', 'ART_AND_DESIGN', '4.7', '121', '3.1M', '10,000+', 'Free', '0', 'Everyone', 'Art & Design;Creativity', 'July 3, 2018', '2.8', '4.0.3 and up']\n",
      "\n",
      "\n",
      "['Text on Photo - Fonteee', 'ART_AND_DESIGN', '4.4', '13880', '28M', '1,000,000+', 'Free', '0', 'Everyone', 'Art & Design', 'October 27, 2017', '1.0.4', '4.1 and up']\n",
      "\n",
      "\n",
      "Number of rows: 9659\n",
      "Number of columns: 13\n"
     ]
    }
   ],
   "source": [
    "android_clean = []\n",
    "already_added = []\n",
    "\n",
    "for app in corrected_android_dataset:\n",
    "    name = app[0]\n",
    "    n_reviews = float(app[3])\n",
    "    \n",
    "    #now we compare the reviews_max dictionary to our dataset\n",
    "    if (reviews_max[name] == n_reviews) and (name not in already_added): #we have to check for the second condition because we want to make sure all the data is accounted for.\n",
    "        android_clean.append(app) #appending the whole row. This will be our new dataset\n",
    "        already_added.append(name) #only appending the name of the app\n",
    "print(\"To make sure everything went like we wanted it to, we explore the data from the new android_clean dataset\\n\")\n",
    "explore_data(android_clean,0,10,True)"
   ]
  },
  {
   "cell_type": "markdown",
   "metadata": {},
   "source": [
    "In order to make sure we have a new dataset that only contains unique app names, with the highest number of reviews, we first initialized two lists: `android_clean` and `already_added`.\n",
    "\n",
    "We then looped over our original dataset, and compared it to the `reviews_max` dictionary. We added the unique entries into the new `android_clean` list by doing the following:\n",
    "1. If the number of reviews in the original dataset and the dictionary (`reviews_max`) is the same AND\n",
    "2. If the name did not already exist in the `already_added` list\n",
    "We appended the row from the original dataset into the new `android_clean` dataset.\n",
    "\n",
    "Exploring the data matches what we expected. We see **9659** entries, as seen in the past as unique entries, and the number of columns remains the same."
   ]
  },
  {
   "cell_type": "markdown",
   "metadata": {},
   "source": [
    "### Removing non-English apps"
   ]
  },
  {
   "cell_type": "code",
   "execution_count": 27,
   "metadata": {},
   "outputs": [
    {
     "data": {
      "text/plain": [
       "False"
      ]
     },
     "execution_count": 27,
     "metadata": {},
     "output_type": "execute_result"
    }
   ],
   "source": [
    "def is_english(string):\n",
    "    \"\"\"\n",
    "    This function will take a string, and if it is non-English, it will return False, else True.\n",
    "    \"\"\"\n",
    "    for i in string:\n",
    "        if ord(i) > 127:\n",
    "            return False\n",
    "        \n",
    "    return True\n",
    "\n",
    "is_english('Docs To Go™ Free Office Suite')"
   ]
  },
  {
   "cell_type": "markdown",
   "metadata": {},
   "source": [
    "The above function does not work the right way, since we input an English string, yet we got the function returning False. Reason for this is that symbols like TM or emojis have ASCII numbers greater than 127. To better filter our strings, we can allow up to 3 non-English characters. This will likely account for emojis and special symbols like TM."
   ]
  },
  {
   "cell_type": "code",
   "execution_count": 28,
   "metadata": {},
   "outputs": [
    {
     "data": {
      "text/plain": [
       "True"
      ]
     },
     "execution_count": 28,
     "metadata": {},
     "output_type": "execute_result"
    }
   ],
   "source": [
    "def is_english_better(string):\n",
    "    \"\"\"\n",
    "    This function does pretty much the same thing as the last function, but allows up to 3 non-ASCII characters\n",
    "    \"\"\"\n",
    "    non_ascii_count = 0 #initializing a non_ascii count\n",
    "    \n",
    "    for i in string:\n",
    "        if ord(i) > 127:\n",
    "            non_ascii_count +=1\n",
    "        \n",
    "    if non_ascii_count > 3:\n",
    "        return False\n",
    "    else:\n",
    "        return True\n",
    "    \n",
    "is_english_better('Docs To Go™ Free Office Suite')"
   ]
  },
  {
   "cell_type": "markdown",
   "metadata": {},
   "source": [
    "Since this filtration system works better for us, we will use it to filter out all non-English apps."
   ]
  },
  {
   "cell_type": "code",
   "execution_count": 38,
   "metadata": {},
   "outputs": [
    {
     "name": "stdout",
     "output_type": "stream",
     "text": [
      "The Android apps with English names are:\n",
      "\n",
      "['Photo Editor & Candy Camera & Grid & ScrapBook', 'ART_AND_DESIGN', '4.1', '159', '19M', '10,000+', 'Free', '0', 'Everyone', 'Art & Design', 'January 7, 2018', '1.0.0', '4.0.3 and up']\n",
      "\n",
      "\n",
      "['U Launcher Lite – FREE Live Cool Themes, Hide Apps', 'ART_AND_DESIGN', '4.7', '87510', '8.7M', '5,000,000+', 'Free', '0', 'Everyone', 'Art & Design', 'August 1, 2018', '1.2.4', '4.0.3 and up']\n",
      "\n",
      "\n",
      "['Sketch - Draw & Paint', 'ART_AND_DESIGN', '4.5', '215644', '25M', '50,000,000+', 'Free', '0', 'Teen', 'Art & Design', 'June 8, 2018', 'Varies with device', '4.2 and up']\n",
      "\n",
      "\n",
      "['Pixel Draw - Number Art Coloring Book', 'ART_AND_DESIGN', '4.3', '967', '2.8M', '100,000+', 'Free', '0', 'Everyone', 'Art & Design;Creativity', 'June 20, 2018', '1.1', '4.4 and up']\n",
      "\n",
      "\n",
      "['Paper flowers instructions', 'ART_AND_DESIGN', '4.4', '167', '5.6M', '50,000+', 'Free', '0', 'Everyone', 'Art & Design', 'March 26, 2017', '1.0', '2.3 and up']\n",
      "\n",
      "\n",
      "Number of rows: 9614\n",
      "Number of columns: 13\n",
      "\n",
      "\n",
      "The Apple apps with English names are:\n",
      "\n",
      "['284882215', 'Facebook', '389879808', 'USD', '0.0', '2974676', '212', '3.5', '3.5', '95.0', '4+', 'Social Networking', '37', '1', '29', '1']\n",
      "\n",
      "\n",
      "['389801252', 'Instagram', '113954816', 'USD', '0.0', '2161558', '1289', '4.5', '4.0', '10.23', '12+', 'Photo & Video', '37', '0', '29', '1']\n",
      "\n",
      "\n",
      "['529479190', 'Clash of Clans', '116476928', 'USD', '0.0', '2130805', '579', '4.5', '4.5', '9.24.12', '9+', 'Games', '38', '5', '18', '1']\n",
      "\n",
      "\n",
      "['420009108', 'Temple Run', '65921024', 'USD', '0.0', '1724546', '3842', '4.5', '4.0', '1.6.2', '9+', 'Games', '40', '5', '1', '1']\n",
      "\n",
      "\n",
      "['284035177', 'Pandora - Music & Radio', '130242560', 'USD', '0.0', '1126879', '3594', '4.0', '4.5', '8.4.1', '12+', 'Music', '37', '4', '1', '1']\n",
      "\n",
      "\n",
      "Number of rows: 6183\n",
      "Number of columns: 16\n"
     ]
    }
   ],
   "source": [
    "def is_english_app(dataset,index_of_name=0): #the second parameter is because Android data set name index is 0, but Apple dataset is 1\n",
    "    \n",
    "    dataset_english = []\n",
    "    \n",
    "    for app in dataset:\n",
    "        name = app[index_of_name]\n",
    "        \n",
    "        if is_english_better(name): #checking that name is in english using previous function\n",
    "            dataset_english.append(app)\n",
    "    \n",
    "    return dataset_english\n",
    "\n",
    "print(\"The Android apps with English names are:\\n\")\n",
    "android_english = is_english_app(android_clean)\n",
    "explore_data(android_english,0,5,True)\n",
    "print(\"\\n\")\n",
    "\n",
    "print(\"The Apple apps with English names are:\\n\")\n",
    "apple_english = is_english_app(apple_dataset,1)\n",
    "explore_data(apple_english,0,5,True)\n",
    "\n"
   ]
  },
  {
   "cell_type": "markdown",
   "metadata": {},
   "source": [
    "Using our function to filter out only English names, we have now created two new datasets:\n",
    "1. Android dataset = `android_english`\n",
    "2. Apple dataset = `apple_english`"
   ]
  },
  {
   "cell_type": "markdown",
   "metadata": {},
   "source": [
    "### Isolating the free apps\n",
    "In this section, I will define a new function that can append to a list of all the free apps."
   ]
  },
  {
   "cell_type": "code",
   "execution_count": 41,
   "metadata": {},
   "outputs": [],
   "source": [
    "def free_apps(dataset, price_index, int_or_float='integer'):\n",
    "    \"\"\"\n",
    "    This function will take in the dataset, the index of the price, and if the price is an integer, i.e. '0' or a float, i.e. '0.0'. If the price is an integer, argument passed should be 'integer', else it should be 'float'\n",
    "    \"\"\"\n",
    "    free_apps_list = []\n",
    "    not_free_apps_list = []\n",
    "    \n",
    "    for app in dataset:\n",
    "        price = app[price_index]\n",
    "        \n",
    "        if int_or_float == 'integer':\n",
    "            if price == '0':\n",
    "                free_apps_list.append(app)\n",
    "            else:\n",
    "                not_free_apps_list.append(app)\n",
    "        if int_or_float == 'float':\n",
    "            if price == '0.0':\n",
    "                free_apps_list.append(app)\n",
    "            else:\n",
    "                not_free_apps_list.append(app)\n",
    "            \n",
    "    return free_apps_list, not_free_apps_list\n"
   ]
  },
  {
   "cell_type": "markdown",
   "metadata": {},
   "source": [
    "The above function will return a tuple of free and not free apps. This tuple will need to be isolated into seperate variables. If the price is 0, make sure the `int_or_float` parameter is `'integer'`, else it should be `'float'`.\n",
    "\n",
    "The index for Apple Store price data is **4**.\n",
    "\n",
    "The index for Android Store price data is **7**.\n",
    "\n"
   ]
  },
  {
   "cell_type": "code",
   "execution_count": 48,
   "metadata": {},
   "outputs": [
    {
     "name": "stdout",
     "output_type": "stream",
     "text": [
      "['284882215', 'Facebook', '389879808', 'USD', '0.0', '2974676', '212', '3.5', '3.5', '95.0', '4+', 'Social Networking', '37', '1', '29', '1']\n",
      "\n",
      "\n",
      "['389801252', 'Instagram', '113954816', 'USD', '0.0', '2161558', '1289', '4.5', '4.0', '10.23', '12+', 'Photo & Video', '37', '0', '29', '1']\n",
      "\n",
      "\n",
      "['529479190', 'Clash of Clans', '116476928', 'USD', '0.0', '2130805', '579', '4.5', '4.5', '9.24.12', '9+', 'Games', '38', '5', '18', '1']\n",
      "\n",
      "\n",
      "['420009108', 'Temple Run', '65921024', 'USD', '0.0', '1724546', '3842', '4.5', '4.0', '1.6.2', '9+', 'Games', '40', '5', '1', '1']\n",
      "\n",
      "\n",
      "['284035177', 'Pandora - Music & Radio', '130242560', 'USD', '0.0', '1126879', '3594', '4.0', '4.5', '8.4.1', '12+', 'Music', '37', '4', '1', '1']\n",
      "\n",
      "\n",
      "Number of rows: 3222\n",
      "Number of columns: 16\n"
     ]
    }
   ],
   "source": [
    "apple_free_notfree_tuple = free_apps(apple_english, 4, 'float')\n",
    "apple_free, apple_not_free = apple_free_notfree_tuple\n",
    "\n",
    "explore_data(apple_free,0,5,True)"
   ]
  },
  {
   "cell_type": "markdown",
   "metadata": {},
   "source": [
    "For Apple's App Store, we have 3222 apps that are free."
   ]
  },
  {
   "cell_type": "code",
   "execution_count": 49,
   "metadata": {},
   "outputs": [
    {
     "name": "stdout",
     "output_type": "stream",
     "text": [
      "['U Launcher Lite – FREE Live Cool Themes, Hide Apps', 'ART_AND_DESIGN', '4.7', '87510', '8.7M', '5,000,000+', 'Free', '0', 'Everyone', 'Art & Design', 'August 1, 2018', '1.2.4', '4.0.3 and up']\n",
      "\n",
      "\n",
      "['Sketch - Draw & Paint', 'ART_AND_DESIGN', '4.5', '215644', '25M', '50,000,000+', 'Free', '0', 'Teen', 'Art & Design', 'June 8, 2018', 'Varies with device', '4.2 and up']\n",
      "\n",
      "\n",
      "['Pixel Draw - Number Art Coloring Book', 'ART_AND_DESIGN', '4.3', '967', '2.8M', '100,000+', 'Free', '0', 'Everyone', 'Art & Design;Creativity', 'June 20, 2018', '1.1', '4.4 and up']\n",
      "\n",
      "\n",
      "['Paper flowers instructions', 'ART_AND_DESIGN', '4.4', '167', '5.6M', '50,000+', 'Free', '0', 'Everyone', 'Art & Design', 'March 26, 2017', '1.0', '2.3 and up']\n",
      "\n",
      "\n",
      "Number of rows: 8864\n",
      "Number of columns: 13\n"
     ]
    }
   ],
   "source": [
    "android_free_notfree_tuple = free_apps(android_english, 7)\n",
    "android_free, android_not_free = android_free_notfree_tuple\n",
    "\n",
    "explore_data(android_free,1,5,True)"
   ]
  },
  {
   "cell_type": "markdown",
   "metadata": {},
   "source": [
    "For Android's Play Store, we have 8864 apps that are free."
   ]
  },
  {
   "cell_type": "markdown",
   "metadata": {},
   "source": [
    "### Most common apps by genre\n",
    "\n",
    "In this section, we will explore what are the most common apps by genre for both: The Apple App Store as well as the Android Play Store.\n",
    "\n",
    "The rationale in doing so is that we would like to make an app that is actually successful. We want to analyze the market to see what kind of apps are actually successful, and then go onto making that kind of app for Android first. If we get a good response, we will make it for Apple. \n",
    "\n"
   ]
  },
  {
   "cell_type": "code",
   "execution_count": null,
   "metadata": {},
   "outputs": [],
   "source": [
    "T"
   ]
  }
 ],
 "metadata": {
  "kernelspec": {
   "display_name": "Python 3",
   "language": "python",
   "name": "python3"
  },
  "language_info": {
   "codemirror_mode": {
    "name": "ipython",
    "version": 3
   },
   "file_extension": ".py",
   "mimetype": "text/x-python",
   "name": "python",
   "nbconvert_exporter": "python",
   "pygments_lexer": "ipython3",
   "version": "3.8.5"
  }
 },
 "nbformat": 4,
 "nbformat_minor": 4
}
