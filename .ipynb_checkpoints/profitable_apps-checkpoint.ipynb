{
 "cells": [
  {
   "cell_type": "markdown",
   "metadata": {},
   "source": [
    "# Profitable App Profiles\n",
    "\n",
    "## About Project:\n",
    "In this project, we will be analysing data about apps from the Apple app store as well as the Android app store.\n",
    "\n",
    "## Goal of Project:\n",
    "Our goal is to help developers understand what kind of apps are more likely to be downloaded by users, and what kinda of apps are possibly profitable.\n",
    "\n",
    "### Dataset sources:\n",
    "[**Android (Google Playstore) Dataset**](https://www.kaggle.com/lava18/google-play-store-apps)\n",
    "\n",
    "[**Apple App Store Dataset**](https://www.kaggle.com/ramamet4/app-store-apple-data-set-10k-apps)"
   ]
  },
  {
   "cell_type": "code",
   "execution_count": 1,
   "metadata": {},
   "outputs": [],
   "source": [
    "from csv import reader\n",
    "def open_dataset(dataset, header = True): #defining function, takes two input parameters\n",
    "    opened_file = open(dataset)\n",
    "    read_file = reader(opened_file)\n",
    "    data = list(read_file) #converts the file into a list\n",
    "    if header:\n",
    "        header_dataset = data[0]\n",
    "        list_dataset = data[1:]\n",
    "        return header_dataset, list_dataset #if there is a header, a tuple of the header and data will be returned\n",
    "    else:\n",
    "        list_dataset = data[0:]\n",
    "        return list_dataset #if there is no header, the data will be returned"
   ]
  },
  {
   "cell_type": "code",
   "execution_count": 2,
   "metadata": {},
   "outputs": [],
   "source": [
    "#opening the Android data set\n",
    "android_data = open_dataset('googleplaystore.csv')\n",
    "android_data_header, android_dataset = android_data #assigning variables to the header and actual data\n",
    "#print(android_dataset)\n",
    "\n",
    "#opening the Apple data set\n",
    "apple_data = open_dataset('AppleStore.csv')\n",
    "apple_data_header, apple_dataset = apple_data #assigning variables to the header and actual data\n",
    "#print(apple_data_header)"
   ]
  },
  {
   "cell_type": "markdown",
   "metadata": {},
   "source": [
    "In the section above, we put the Android and the Apple csv datasets into a function, and then defined two variables for each of the dataset. One variable is just the header of thd dataset, while the second variable is the full dataset without the header."
   ]
  },
  {
   "cell_type": "markdown",
   "metadata": {},
   "source": [
    "### Exploring our datasets"
   ]
  },
  {
   "cell_type": "code",
   "execution_count": 3,
   "metadata": {},
   "outputs": [],
   "source": [
    "def explore_data(dataset, start, end, rows_and_columns=False): #dataset takes in list, start and end take in integers\n",
    "    dataset_slice = dataset[start:end]    \n",
    "    for row in dataset_slice:\n",
    "        print(row)\n",
    "        print('\\n') # adds a new (empty) line after each row\n",
    "\n",
    "    if rows_and_columns:\n",
    "        print('Number of rows:', len(dataset))\n",
    "        print('Number of columns:', len(dataset[0]))"
   ]
  },
  {
   "cell_type": "code",
   "execution_count": 4,
   "metadata": {},
   "outputs": [
    {
     "name": "stdout",
     "output_type": "stream",
     "text": [
      "This is the first 6 rows of the Android dataset\n",
      "\n",
      "['Photo Editor & Candy Camera & Grid & ScrapBook', 'ART_AND_DESIGN', '4.1', '159', '19M', '10,000+', 'Free', '0', 'Everyone', 'Art & Design', 'January 7, 2018', '1.0.0', '4.0.3 and up']\n",
      "\n",
      "\n",
      "['Coloring book moana', 'ART_AND_DESIGN', '3.9', '967', '14M', '500,000+', 'Free', '0', 'Everyone', 'Art & Design;Pretend Play', 'January 15, 2018', '2.0.0', '4.0.3 and up']\n",
      "\n",
      "\n",
      "['U Launcher Lite – FREE Live Cool Themes, Hide Apps', 'ART_AND_DESIGN', '4.7', '87510', '8.7M', '5,000,000+', 'Free', '0', 'Everyone', 'Art & Design', 'August 1, 2018', '1.2.4', '4.0.3 and up']\n",
      "\n",
      "\n",
      "['Sketch - Draw & Paint', 'ART_AND_DESIGN', '4.5', '215644', '25M', '50,000,000+', 'Free', '0', 'Teen', 'Art & Design', 'June 8, 2018', 'Varies with device', '4.2 and up']\n",
      "\n",
      "\n",
      "['Pixel Draw - Number Art Coloring Book', 'ART_AND_DESIGN', '4.3', '967', '2.8M', '100,000+', 'Free', '0', 'Everyone', 'Art & Design;Creativity', 'June 20, 2018', '1.1', '4.4 and up']\n",
      "\n",
      "\n",
      "Number of rows: 10841\n",
      "Number of columns: 13\n",
      "\n",
      "These are the column names for the Android dataset:\n",
      "\n",
      "App\n",
      "Category\n",
      "Rating\n",
      "Reviews\n",
      "Size\n",
      "Installs\n",
      "Type\n",
      "Price\n",
      "Content Rating\n",
      "Genres\n",
      "Last Updated\n",
      "Current Ver\n",
      "Android Ver\n"
     ]
    }
   ],
   "source": [
    "#showing the first 6 rows of the Apple and Android datasets, with how many rows and columns there are. The header columns are not counted because the variable accounts for that\n",
    "print(\"This is the first 6 rows of the Android dataset\\n\")\n",
    "explore_data(android_dataset, 0, 5, rows_and_columns=True) #android dataset, keyword argument\n",
    "\n",
    "\n",
    "print(\"\\nThese are the column names for the Android dataset:\\n\")\n",
    "print(\"\\n\".join(android_data_header))\n",
    "\n",
    "\n"
   ]
  },
  {
   "cell_type": "markdown",
   "metadata": {},
   "source": [
    "We can see the first 6 rows of the Android dataset, without the headers. The number of rows is 10841, and the number of columns is 13. The column names are listed above."
   ]
  },
  {
   "cell_type": "code",
   "execution_count": 5,
   "metadata": {},
   "outputs": [
    {
     "name": "stdout",
     "output_type": "stream",
     "text": [
      "\n",
      "This is the first 6 rows of the Apple dataset\n",
      "['284882215', 'Facebook', '389879808', 'USD', '0.0', '2974676', '212', '3.5', '3.5', '95.0', '4+', 'Social Networking', '37', '1', '29', '1']\n",
      "\n",
      "\n",
      "['389801252', 'Instagram', '113954816', 'USD', '0.0', '2161558', '1289', '4.5', '4.0', '10.23', '12+', 'Photo & Video', '37', '0', '29', '1']\n",
      "\n",
      "\n",
      "['529479190', 'Clash of Clans', '116476928', 'USD', '0.0', '2130805', '579', '4.5', '4.5', '9.24.12', '9+', 'Games', '38', '5', '18', '1']\n",
      "\n",
      "\n",
      "['420009108', 'Temple Run', '65921024', 'USD', '0.0', '1724546', '3842', '4.5', '4.0', '1.6.2', '9+', 'Games', '40', '5', '1', '1']\n",
      "\n",
      "\n",
      "['284035177', 'Pandora - Music & Radio', '130242560', 'USD', '0.0', '1126879', '3594', '4.0', '4.5', '8.4.1', '12+', 'Music', '37', '4', '1', '1']\n",
      "\n",
      "\n",
      "Number of rows: 7197\n",
      "Number of columns: 16\n",
      "\n",
      "These are the column names for the Apple dataset:\n",
      "\n",
      "id\n",
      "track_name\n",
      "size_bytes\n",
      "currency\n",
      "price\n",
      "rating_count_tot\n",
      "rating_count_ver\n",
      "user_rating\n",
      "user_rating_ver\n",
      "ver\n",
      "cont_rating\n",
      "prime_genre\n",
      "sup_devices.num\n",
      "ipadSc_urls.num\n",
      "lang.num\n",
      "vpp_lic\n"
     ]
    }
   ],
   "source": [
    "print(\"\\nThis is the first 6 rows of the Apple dataset\")\n",
    "explore_data(apple_dataset, 0, 5, True) #positional argument\n",
    "\n",
    "print(\"\\nThese are the column names for the Apple dataset:\\n\")\n",
    "print(\"\\n\".join(apple_data_header))"
   ]
  },
  {
   "cell_type": "markdown",
   "metadata": {},
   "source": [
    "We can see the first 6 rows of the Android dataset, without the headers. The number of rows is 7197, and the number of columns is 16. The column names are listed above. The documentation to understand the column names can be found [here](https://www.kaggle.com/ramamet4/app-store-apple-data-set-10k-apps/home)."
   ]
  },
  {
   "cell_type": "markdown",
   "metadata": {},
   "source": [
    "### Finding wrong/incorrect data"
   ]
  },
  {
   "cell_type": "code",
   "execution_count": 6,
   "metadata": {},
   "outputs": [
    {
     "name": "stdout",
     "output_type": "stream",
     "text": [
      "The wrong data row is:\n",
      "['Life Made WI-Fi Touchscreen Photo Frame', '1.9', '19', '3.0M', '1,000+', 'Free', '0', 'Everyone', '', 'February 11, 2018', '1.0.19', '4.0 and up']\n",
      "\n",
      "\n",
      "Index of the wrong row is 10472\n",
      "\n",
      "The headers of the Android dataset are:\n",
      "\n",
      "['App', 'Category', 'Rating', 'Reviews', 'Size', 'Installs', 'Type', 'Price', 'Content Rating', 'Genres', 'Last Updated', 'Current Ver', 'Android Ver']\n",
      "\n",
      "A normal row in an Android dataset looks like:\n",
      "\n",
      "['Sketch - Draw & Paint', 'ART_AND_DESIGN', '4.5', '215644', '25M', '50,000,000+', 'Free', '0', 'Teen', 'Art & Design', 'June 8, 2018', 'Varies with device', '4.2 and up']\n"
     ]
    }
   ],
   "source": [
    "#trying to find wrong data in the Android dataset\n",
    "for row in android_dataset:\n",
    "    if len(row) != len(android_data_header):\n",
    "        print(\"The wrong data row is:\")\n",
    "        print(row)\n",
    "        print(\"\\n\")\n",
    "        print(\"Index of the wrong row is \" + str(android_dataset.index(row)))\n",
    "\n",
    "print(\"\\nThe headers of the Android dataset are:\\n\")\n",
    "print(android_data_header)\n",
    "\n",
    "print(\"\\nA normal row in an Android dataset looks like:\\n\")\n",
    "print(android_dataset[3])\n",
    "        "
   ]
  },
  {
   "cell_type": "markdown",
   "metadata": {},
   "source": [
    "It seems that row 10472 is missing the **Category** data, shifting everything by one cell."
   ]
  },
  {
   "cell_type": "code",
   "execution_count": 7,
   "metadata": {},
   "outputs": [
    {
     "name": "stdout",
     "output_type": "stream",
     "text": [
      "['Photo Editor & Candy Camera & Grid & ScrapBook', 'ART_AND_DESIGN', '4.1', '159', '19M', '10,000+', 'Free', '0', 'Everyone', 'Art & Design', 'January 7, 2018', '1.0.0', '4.0.3 and up']\n",
      "\n",
      "\n",
      "['Coloring book moana', 'ART_AND_DESIGN', '3.9', '967', '14M', '500,000+', 'Free', '0', 'Everyone', 'Art & Design;Pretend Play', 'January 15, 2018', '2.0.0', '4.0.3 and up']\n",
      "\n",
      "\n",
      "['U Launcher Lite – FREE Live Cool Themes, Hide Apps', 'ART_AND_DESIGN', '4.7', '87510', '8.7M', '5,000,000+', 'Free', '0', 'Everyone', 'Art & Design', 'August 1, 2018', '1.2.4', '4.0.3 and up']\n",
      "\n",
      "\n",
      "['Sketch - Draw & Paint', 'ART_AND_DESIGN', '4.5', '215644', '25M', '50,000,000+', 'Free', '0', 'Teen', 'Art & Design', 'June 8, 2018', 'Varies with device', '4.2 and up']\n",
      "\n",
      "\n",
      "['Pixel Draw - Number Art Coloring Book', 'ART_AND_DESIGN', '4.3', '967', '2.8M', '100,000+', 'Free', '0', 'Everyone', 'Art & Design;Creativity', 'June 20, 2018', '1.1', '4.4 and up']\n",
      "\n",
      "\n",
      "Number of rows: 10840\n",
      "Number of columns: 13\n"
     ]
    }
   ],
   "source": [
    "corrected_android_dataset = android_dataset[:10472] + android_dataset[10473:] #new dataset without the wrong data\n",
    "#print(corrected_android_dataset[10470:10480])\n",
    "explore_data(corrected_android_dataset, 0, 5, rows_and_columns=True)"
   ]
  },
  {
   "cell_type": "markdown",
   "metadata": {},
   "source": [
    "The wrong data row has been removed, and the new corrected data set is stored in the variable `corrected_android_dataset`. The new number of rows is 10840, and columns remain the same."
   ]
  },
  {
   "cell_type": "markdown",
   "metadata": {},
   "source": [
    "### Removing duplicate entries\n",
    "\n",
    "If the Android dataset is looked at, we will see that it contains duplicate entries. This section will see what duplicate entries there are and what is the criteria to remove the duplicate entries."
   ]
  },
  {
   "cell_type": "code",
   "execution_count": 8,
   "metadata": {},
   "outputs": [
    {
     "name": "stdout",
     "output_type": "stream",
     "text": [
      "There are 9659 unique apps. Some of the unique apps are:\n",
      "\n",
      "Photo Editor & Candy Camera & Grid & ScrapBook\n",
      "Coloring book moana\n",
      "U Launcher Lite – FREE Live Cool Themes, Hide Apps\n",
      "Sketch - Draw & Paint\n",
      "Pixel Draw - Number Art Coloring Book\n",
      "Paper flowers instructions\n",
      "Smoke Effect Photo Maker - Smoke Editor\n",
      "Infinite Painter\n",
      "Garden Coloring Book\n",
      "Kids Paint Free - Drawing Fun\n",
      "Text on Photo - Fonteee\n",
      "Name Art Photo Editor - Focus n Filters\n",
      "Tattoo Name On My Photo Editor\n",
      "Mandala Coloring Book\n",
      "3D Color Pixel by Number - Sandbox Art Coloring\n",
      "\n",
      "\n",
      "There are 1181 duplicate apps. Some of the duplicate apps are:\n",
      "\n",
      "Quick PDF Scanner + OCR FREE\n",
      "Box\n",
      "Google My Business\n",
      "ZOOM Cloud Meetings\n",
      "join.me - Simple Meetings\n",
      "Box\n",
      "Zenefits\n",
      "Google Ads\n",
      "Google My Business\n",
      "Slack\n",
      "FreshBooks Classic\n",
      "Insightly CRM\n",
      "QuickBooks Accounting: Invoicing & Expenses\n",
      "HipChat - Chat Built for Teams\n",
      "Xero Accounting Software\n",
      "\n",
      "\n",
      "An example of a duplicate app is Instagram. Only difference in the rows is that the rating is different (index 3):\n",
      "\n",
      "['Instagram', 'SOCIAL', '4.5', '66577313', 'Varies with device', '1,000,000,000+', 'Free', '0', 'Teen', 'Social', 'July 31, 2018', 'Varies with device', 'Varies with device']\n",
      "['Instagram', 'SOCIAL', '4.5', '66577446', 'Varies with device', '1,000,000,000+', 'Free', '0', 'Teen', 'Social', 'July 31, 2018', 'Varies with device', 'Varies with device']\n",
      "['Instagram', 'SOCIAL', '4.5', '66577313', 'Varies with device', '1,000,000,000+', 'Free', '0', 'Teen', 'Social', 'July 31, 2018', 'Varies with device', 'Varies with device']\n",
      "['Instagram', 'SOCIAL', '4.5', '66509917', 'Varies with device', '1,000,000,000+', 'Free', '0', 'Teen', 'Social', 'July 31, 2018', 'Varies with device', 'Varies with device']\n"
     ]
    }
   ],
   "source": [
    "#initializing 2 lists for unique and duplicate apps\n",
    "unique_android_apps = []\n",
    "duplicate_android_apps = []\n",
    "for app in corrected_android_dataset:\n",
    "    name = app[0]\n",
    "    \n",
    "    if name in unique_android_apps:\n",
    "        duplicate_android_apps.append(name)\n",
    "    else:\n",
    "        unique_android_apps.append(name)\n",
    "\n",
    "print(\"There are \" + str(len(unique_android_apps)) + \" unique apps. Some of the unique apps are:\\n\")\n",
    "print(\"\\n\".join(unique_android_apps[:15]))\n",
    "print(\"\\n\")\n",
    "\n",
    "print(\"There are \" + str(len(duplicate_android_apps)) + \" duplicate apps. Some of the duplicate apps are:\\n\")\n",
    "print(\"\\n\".join(duplicate_android_apps[:15]))\n",
    "print(\"\\n\")\n",
    "print(\"An example of a duplicate app is Instagram. Only difference in the rows is that the rating is different (index 3):\\n\")\n",
    "for app in corrected_android_dataset:\n",
    "    name = app[0]\n",
    "    if name == 'Instagram':\n",
    "        print(app)"
   ]
  },
  {
   "cell_type": "markdown",
   "metadata": {},
   "source": [
    "We can see that there are 1181 duplicate app listings in the Android dataset. Since the only difference between these entries is the rating, we can use this to our advantage, to remove duplicate app listings. If the rating is more, we can assuume that the data was collected most recently, and thus we keep that listing, and remove the others."
   ]
  },
  {
   "cell_type": "code",
   "execution_count": 9,
   "metadata": {},
   "outputs": [
    {
     "name": "stdout",
     "output_type": "stream",
     "text": [
      "The number of items in the dictionary are: 9659\n"
     ]
    }
   ],
   "source": [
    "reviews_max = {}\n",
    "for app in corrected_android_dataset:\n",
    "    name = app[0]\n",
    "    n_reviews = float(app[3])\n",
    "    \n",
    "    if name in reviews_max and reviews_max[name] < n_reviews: #if the app name already exixts as a key in the dictionary, and the reviews in the dict are LESS than the new row, then we update the dictionary\n",
    "        reviews_max[name] = n_reviews\n",
    "        \n",
    "    if name not in reviews_max: #if the app does not exist, we add it into the dictionary\n",
    "        reviews_max[name] = n_reviews\n",
    "        \n",
    "print(\"The number of items in the dictionary are: \" + str(len(reviews_max.keys())))"
   ]
  },
  {
   "cell_type": "markdown",
   "metadata": {},
   "source": [
    "We now have a dictionary where the key is the unique name of the app, and the value is the max number of reviews."
   ]
  },
  {
   "cell_type": "code",
   "execution_count": 10,
   "metadata": {},
   "outputs": [
    {
     "name": "stdout",
     "output_type": "stream",
     "text": [
      "To make sure everything went like we wanted it to, we explore the data from the new android_clean dataset\n",
      "\n",
      "['Photo Editor & Candy Camera & Grid & ScrapBook', 'ART_AND_DESIGN', '4.1', '159', '19M', '10,000+', 'Free', '0', 'Everyone', 'Art & Design', 'January 7, 2018', '1.0.0', '4.0.3 and up']\n",
      "\n",
      "\n",
      "['U Launcher Lite – FREE Live Cool Themes, Hide Apps', 'ART_AND_DESIGN', '4.7', '87510', '8.7M', '5,000,000+', 'Free', '0', 'Everyone', 'Art & Design', 'August 1, 2018', '1.2.4', '4.0.3 and up']\n",
      "\n",
      "\n",
      "['Sketch - Draw & Paint', 'ART_AND_DESIGN', '4.5', '215644', '25M', '50,000,000+', 'Free', '0', 'Teen', 'Art & Design', 'June 8, 2018', 'Varies with device', '4.2 and up']\n",
      "\n",
      "\n",
      "['Pixel Draw - Number Art Coloring Book', 'ART_AND_DESIGN', '4.3', '967', '2.8M', '100,000+', 'Free', '0', 'Everyone', 'Art & Design;Creativity', 'June 20, 2018', '1.1', '4.4 and up']\n",
      "\n",
      "\n",
      "['Paper flowers instructions', 'ART_AND_DESIGN', '4.4', '167', '5.6M', '50,000+', 'Free', '0', 'Everyone', 'Art & Design', 'March 26, 2017', '1.0', '2.3 and up']\n",
      "\n",
      "\n",
      "['Smoke Effect Photo Maker - Smoke Editor', 'ART_AND_DESIGN', '3.8', '178', '19M', '50,000+', 'Free', '0', 'Everyone', 'Art & Design', 'April 26, 2018', '1.1', '4.0.3 and up']\n",
      "\n",
      "\n",
      "['Infinite Painter', 'ART_AND_DESIGN', '4.1', '36815', '29M', '1,000,000+', 'Free', '0', 'Everyone', 'Art & Design', 'June 14, 2018', '6.1.61.1', '4.2 and up']\n",
      "\n",
      "\n",
      "['Garden Coloring Book', 'ART_AND_DESIGN', '4.4', '13791', '33M', '1,000,000+', 'Free', '0', 'Everyone', 'Art & Design', 'September 20, 2017', '2.9.2', '3.0 and up']\n",
      "\n",
      "\n",
      "['Kids Paint Free - Drawing Fun', 'ART_AND_DESIGN', '4.7', '121', '3.1M', '10,000+', 'Free', '0', 'Everyone', 'Art & Design;Creativity', 'July 3, 2018', '2.8', '4.0.3 and up']\n",
      "\n",
      "\n",
      "['Text on Photo - Fonteee', 'ART_AND_DESIGN', '4.4', '13880', '28M', '1,000,000+', 'Free', '0', 'Everyone', 'Art & Design', 'October 27, 2017', '1.0.4', '4.1 and up']\n",
      "\n",
      "\n",
      "Number of rows: 9659\n",
      "Number of columns: 13\n"
     ]
    }
   ],
   "source": [
    "android_clean = []\n",
    "already_added = []\n",
    "\n",
    "for app in corrected_android_dataset:\n",
    "    name = app[0]\n",
    "    n_reviews = float(app[3])\n",
    "    \n",
    "    #now we compare the reviews_max dictionary to our dataset\n",
    "    if (reviews_max[name] == n_reviews) and (name not in already_added): #we have to check for the second condition because we want to make sure all the data is accounted for.\n",
    "        android_clean.append(app) #appending the whole row. This will be our new dataset\n",
    "        already_added.append(name) #only appending the name of the app\n",
    "print(\"To make sure everything went like we wanted it to, we explore the data from the new android_clean dataset\\n\")\n",
    "explore_data(android_clean,0,10,True)"
   ]
  },
  {
   "cell_type": "markdown",
   "metadata": {},
   "source": [
    "In order to make sure we have a new dataset that only contains unique app names, with the highest number of reviews, we first initialized two lists: `android_clean` and `already_added`.\n",
    "\n",
    "We then looped over our original dataset, and compared it to the `reviews_max` dictionary. We added the unique entries into the new `android_clean` list by doing the following:\n",
    "1. If the number of reviews in the original dataset and the dictionary (`reviews_max`) is the same AND\n",
    "2. If the name did not already exist in the `already_added` list\n",
    "We appended the row from the original dataset into the new `android_clean` dataset.\n",
    "\n",
    "Exploring the data matches what we expected. We see **9659** entries, as seen in the past as unique entries, and the number of columns remains the same."
   ]
  },
  {
   "cell_type": "markdown",
   "metadata": {},
   "source": [
    "### Removing non-English apps"
   ]
  },
  {
   "cell_type": "code",
   "execution_count": 11,
   "metadata": {},
   "outputs": [
    {
     "data": {
      "text/plain": [
       "False"
      ]
     },
     "execution_count": 11,
     "metadata": {},
     "output_type": "execute_result"
    }
   ],
   "source": [
    "def is_english(string):\n",
    "    \"\"\"\n",
    "    This function will take a string, and if it is non-English, it will return False, else True.\n",
    "    \"\"\"\n",
    "    for i in string:\n",
    "        if ord(i) > 127:\n",
    "            return False\n",
    "        \n",
    "    return True\n",
    "\n",
    "is_english('Docs To Go™ Free Office Suite')"
   ]
  },
  {
   "cell_type": "markdown",
   "metadata": {},
   "source": [
    "The above function does not work the right way, since we input an English string, yet we got the function returning False. Reason for this is that symbols like TM or emojis have ASCII numbers greater than 127. To better filter our strings, we can allow up to 3 non-English characters. This will likely account for emojis and special symbols like TM."
   ]
  },
  {
   "cell_type": "code",
   "execution_count": 12,
   "metadata": {},
   "outputs": [
    {
     "data": {
      "text/plain": [
       "True"
      ]
     },
     "execution_count": 12,
     "metadata": {},
     "output_type": "execute_result"
    }
   ],
   "source": [
    "def is_english_better(string):\n",
    "    \"\"\"\n",
    "    This function does pretty much the same thing as the last function, but allows up to 3 non-ASCII characters\n",
    "    \"\"\"\n",
    "    non_ascii_count = 0 #initializing a non_ascii count\n",
    "    \n",
    "    for i in string:\n",
    "        if ord(i) > 127:\n",
    "            non_ascii_count +=1\n",
    "        \n",
    "    if non_ascii_count > 3:\n",
    "        return False\n",
    "    else:\n",
    "        return True\n",
    "    \n",
    "is_english_better('Docs To Go™ Free Office Suite')"
   ]
  },
  {
   "cell_type": "markdown",
   "metadata": {},
   "source": [
    "Since this filtration system works better for us, we will use it to filter out all non-English apps."
   ]
  },
  {
   "cell_type": "code",
   "execution_count": 13,
   "metadata": {},
   "outputs": [
    {
     "name": "stdout",
     "output_type": "stream",
     "text": [
      "The Android apps with English names are:\n",
      "\n",
      "['Photo Editor & Candy Camera & Grid & ScrapBook', 'ART_AND_DESIGN', '4.1', '159', '19M', '10,000+', 'Free', '0', 'Everyone', 'Art & Design', 'January 7, 2018', '1.0.0', '4.0.3 and up']\n",
      "\n",
      "\n",
      "['U Launcher Lite – FREE Live Cool Themes, Hide Apps', 'ART_AND_DESIGN', '4.7', '87510', '8.7M', '5,000,000+', 'Free', '0', 'Everyone', 'Art & Design', 'August 1, 2018', '1.2.4', '4.0.3 and up']\n",
      "\n",
      "\n",
      "['Sketch - Draw & Paint', 'ART_AND_DESIGN', '4.5', '215644', '25M', '50,000,000+', 'Free', '0', 'Teen', 'Art & Design', 'June 8, 2018', 'Varies with device', '4.2 and up']\n",
      "\n",
      "\n",
      "['Pixel Draw - Number Art Coloring Book', 'ART_AND_DESIGN', '4.3', '967', '2.8M', '100,000+', 'Free', '0', 'Everyone', 'Art & Design;Creativity', 'June 20, 2018', '1.1', '4.4 and up']\n",
      "\n",
      "\n",
      "['Paper flowers instructions', 'ART_AND_DESIGN', '4.4', '167', '5.6M', '50,000+', 'Free', '0', 'Everyone', 'Art & Design', 'March 26, 2017', '1.0', '2.3 and up']\n",
      "\n",
      "\n",
      "Number of rows: 9614\n",
      "Number of columns: 13\n",
      "\n",
      "\n",
      "The Apple apps with English names are:\n",
      "\n",
      "['284882215', 'Facebook', '389879808', 'USD', '0.0', '2974676', '212', '3.5', '3.5', '95.0', '4+', 'Social Networking', '37', '1', '29', '1']\n",
      "\n",
      "\n",
      "['389801252', 'Instagram', '113954816', 'USD', '0.0', '2161558', '1289', '4.5', '4.0', '10.23', '12+', 'Photo & Video', '37', '0', '29', '1']\n",
      "\n",
      "\n",
      "['529479190', 'Clash of Clans', '116476928', 'USD', '0.0', '2130805', '579', '4.5', '4.5', '9.24.12', '9+', 'Games', '38', '5', '18', '1']\n",
      "\n",
      "\n",
      "['420009108', 'Temple Run', '65921024', 'USD', '0.0', '1724546', '3842', '4.5', '4.0', '1.6.2', '9+', 'Games', '40', '5', '1', '1']\n",
      "\n",
      "\n",
      "['284035177', 'Pandora - Music & Radio', '130242560', 'USD', '0.0', '1126879', '3594', '4.0', '4.5', '8.4.1', '12+', 'Music', '37', '4', '1', '1']\n",
      "\n",
      "\n",
      "Number of rows: 6183\n",
      "Number of columns: 16\n"
     ]
    }
   ],
   "source": [
    "def is_english_app(dataset,index_of_name=0): #the second parameter is because Android data set name index is 0, but Apple dataset is 1\n",
    "    \n",
    "    dataset_english = []\n",
    "    \n",
    "    for app in dataset:\n",
    "        name = app[index_of_name]\n",
    "        \n",
    "        if is_english_better(name): #checking that name is in english using previous function\n",
    "            dataset_english.append(app)\n",
    "    \n",
    "    return dataset_english\n",
    "\n",
    "print(\"The Android apps with English names are:\\n\")\n",
    "android_english = is_english_app(android_clean)\n",
    "explore_data(android_english,0,5,True)\n",
    "print(\"\\n\")\n",
    "\n",
    "print(\"The Apple apps with English names are:\\n\")\n",
    "apple_english = is_english_app(apple_dataset,1)\n",
    "explore_data(apple_english,0,5,True)\n",
    "\n"
   ]
  },
  {
   "cell_type": "markdown",
   "metadata": {},
   "source": [
    "Using our function to filter out only English names, we have now created two new datasets:\n",
    "1. Android dataset = `android_english`\n",
    "2. Apple dataset = `apple_english`"
   ]
  },
  {
   "cell_type": "markdown",
   "metadata": {},
   "source": [
    "### Isolating the free apps\n",
    "In this section, I will define a new function that can append to a list of all the free apps."
   ]
  },
  {
   "cell_type": "code",
   "execution_count": 14,
   "metadata": {},
   "outputs": [],
   "source": [
    "def free_apps(dataset, price_index, int_or_float='integer'):\n",
    "    \"\"\"\n",
    "    This function will take in the dataset, the index of the price, and if the price is an integer, i.e. '0' or a float, i.e. '0.0'. If the price is an integer, argument passed should be 'integer', else it should be 'float'\n",
    "    \"\"\"\n",
    "    free_apps_list = []\n",
    "    not_free_apps_list = []\n",
    "    \n",
    "    for app in dataset:\n",
    "        price = app[price_index]\n",
    "        \n",
    "        if int_or_float == 'integer':\n",
    "            if price == '0':\n",
    "                free_apps_list.append(app)\n",
    "            else:\n",
    "                not_free_apps_list.append(app)\n",
    "        if int_or_float == 'float':\n",
    "            if price == '0.0':\n",
    "                free_apps_list.append(app)\n",
    "            else:\n",
    "                not_free_apps_list.append(app)\n",
    "            \n",
    "    return free_apps_list, not_free_apps_list\n"
   ]
  },
  {
   "cell_type": "markdown",
   "metadata": {},
   "source": [
    "The above function will return a tuple of free and not free apps. This tuple will need to be isolated into seperate variables. If the price is 0, make sure the `int_or_float` parameter is `'integer'`, else it should be `'float'`.\n",
    "\n",
    "The index for Apple Store price data is **4**.\n",
    "\n",
    "The index for Android Store price data is **7**.\n",
    "\n"
   ]
  },
  {
   "cell_type": "code",
   "execution_count": 15,
   "metadata": {},
   "outputs": [
    {
     "name": "stdout",
     "output_type": "stream",
     "text": [
      "['284882215', 'Facebook', '389879808', 'USD', '0.0', '2974676', '212', '3.5', '3.5', '95.0', '4+', 'Social Networking', '37', '1', '29', '1']\n",
      "\n",
      "\n",
      "['389801252', 'Instagram', '113954816', 'USD', '0.0', '2161558', '1289', '4.5', '4.0', '10.23', '12+', 'Photo & Video', '37', '0', '29', '1']\n",
      "\n",
      "\n",
      "['529479190', 'Clash of Clans', '116476928', 'USD', '0.0', '2130805', '579', '4.5', '4.5', '9.24.12', '9+', 'Games', '38', '5', '18', '1']\n",
      "\n",
      "\n",
      "['420009108', 'Temple Run', '65921024', 'USD', '0.0', '1724546', '3842', '4.5', '4.0', '1.6.2', '9+', 'Games', '40', '5', '1', '1']\n",
      "\n",
      "\n",
      "['284035177', 'Pandora - Music & Radio', '130242560', 'USD', '0.0', '1126879', '3594', '4.0', '4.5', '8.4.1', '12+', 'Music', '37', '4', '1', '1']\n",
      "\n",
      "\n",
      "Number of rows: 3222\n",
      "Number of columns: 16\n"
     ]
    }
   ],
   "source": [
    "apple_free_notfree_tuple = free_apps(apple_english, 4, 'float')\n",
    "apple_free, apple_not_free = apple_free_notfree_tuple\n",
    "\n",
    "explore_data(apple_free,0,5,True)"
   ]
  },
  {
   "cell_type": "markdown",
   "metadata": {},
   "source": [
    "For Apple's App Store, we have 3222 apps that are free."
   ]
  },
  {
   "cell_type": "code",
   "execution_count": 16,
   "metadata": {},
   "outputs": [
    {
     "name": "stdout",
     "output_type": "stream",
     "text": [
      "['U Launcher Lite – FREE Live Cool Themes, Hide Apps', 'ART_AND_DESIGN', '4.7', '87510', '8.7M', '5,000,000+', 'Free', '0', 'Everyone', 'Art & Design', 'August 1, 2018', '1.2.4', '4.0.3 and up']\n",
      "\n",
      "\n",
      "['Sketch - Draw & Paint', 'ART_AND_DESIGN', '4.5', '215644', '25M', '50,000,000+', 'Free', '0', 'Teen', 'Art & Design', 'June 8, 2018', 'Varies with device', '4.2 and up']\n",
      "\n",
      "\n",
      "['Pixel Draw - Number Art Coloring Book', 'ART_AND_DESIGN', '4.3', '967', '2.8M', '100,000+', 'Free', '0', 'Everyone', 'Art & Design;Creativity', 'June 20, 2018', '1.1', '4.4 and up']\n",
      "\n",
      "\n",
      "['Paper flowers instructions', 'ART_AND_DESIGN', '4.4', '167', '5.6M', '50,000+', 'Free', '0', 'Everyone', 'Art & Design', 'March 26, 2017', '1.0', '2.3 and up']\n",
      "\n",
      "\n",
      "Number of rows: 8864\n",
      "Number of columns: 13\n"
     ]
    }
   ],
   "source": [
    "android_free_notfree_tuple = free_apps(android_english, 7)\n",
    "android_free, android_not_free = android_free_notfree_tuple\n",
    "\n",
    "explore_data(android_free,1,5,True)"
   ]
  },
  {
   "cell_type": "markdown",
   "metadata": {},
   "source": [
    "For Android's Play Store, we have 8864 apps that are free."
   ]
  },
  {
   "cell_type": "markdown",
   "metadata": {},
   "source": [
    "### Most common apps by genre\n",
    "\n",
    "In this section, we will explore what are the most common apps by genre for both: The Apple App Store as well as the Android Play Store.\n",
    "\n",
    "The rationale in doing so is that we would like to make an app that is actually successful. We want to analyze the market to see what kind of apps are actually successful, and then go onto making that kind of app for Android first. If we get a good response, we will make it for Apple. \n",
    "\n",
    "We will start by exploring the headers of both the datasets, and figure out which columns we can make frequency tables based of.\n"
   ]
  },
  {
   "cell_type": "code",
   "execution_count": 17,
   "metadata": {},
   "outputs": [
    {
     "name": "stdout",
     "output_type": "stream",
     "text": [
      "Android dataset headers:\n",
      "\n",
      "['App', 'Category', 'Rating', 'Reviews', 'Size', 'Installs', 'Type', 'Price', 'Content Rating', 'Genres', 'Last Updated', 'Current Ver', 'Android Ver']\n",
      "\n",
      "\n",
      "Apple dataset headers:\n",
      "\n",
      "['id', 'track_name', 'size_bytes', 'currency', 'price', 'rating_count_tot', 'rating_count_ver', 'user_rating', 'user_rating_ver', 'ver', 'cont_rating', 'prime_genre', 'sup_devices.num', 'ipadSc_urls.num', 'lang.num', 'vpp_lic']\n",
      "\n",
      "\n"
     ]
    }
   ],
   "source": [
    "print(\"Android dataset headers:\\n\")\n",
    "print(android_data_header)\n",
    "print(\"\\n\")\n",
    "\n",
    "print(\"Apple dataset headers:\\n\")\n",
    "print(apple_data_header)\n",
    "print(\"\\n\")\n"
   ]
  },
  {
   "cell_type": "markdown",
   "metadata": {},
   "source": [
    "From the headers, we see that:\n",
    "* For the Android dataset, we can build a frequency table using the 'Category' (index 1) and the 'Genres' (index 9) columns.\n",
    "* For the Apple dataset, we can use the 'prime_genre' column (index -5)"
   ]
  },
  {
   "cell_type": "code",
   "execution_count": 18,
   "metadata": {},
   "outputs": [],
   "source": [
    "def freq_table(dataset, index):\n",
    "    freq_dict = {}\n",
    "    \n",
    "    for app in dataset:\n",
    "        freq_param = app[index] #for every row, the column we are trying to build a freq table for\n",
    "        \n",
    "        if freq_param in freq_dict: #if the column name exists as a key in our dictionary, just add one to the value of that key\n",
    "            freq_dict[freq_param] += 1\n",
    "        elif freq_param not in freq_dict: #if it does not, then initialize it with 1\n",
    "            freq_dict[freq_param] = 1\n",
    "    \n",
    "    total = 0\n",
    "    \n",
    "    for i in freq_dict.values(): #counting the total number of categories\n",
    "        total += i\n",
    "    \n",
    "    freq_dict_percentage = {}\n",
    "    \n",
    "    for c_name in freq_dict:\n",
    "        percent = (freq_dict[c_name] / total) * 100\n",
    "        freq_dict_percentage[c_name] = percent #you're taking the key from the main freq_dict, adding the key to our new dict, and assigning it a value of the percent we just calculated\n",
    "        \n",
    "    return freq_dict_percentage\n",
    "\n",
    "\n",
    "def display_table(dataset, index):\n",
    "    \"\"\"\n",
    "This function was provided by dataquest. \n",
    "It takes in the dataset and index parameter, \n",
    "generates a frequency table using the function we wrote, \n",
    "transforms the table (dictionary) into a list of tuples,\n",
    "sorts it into descending order,\n",
    "prints the entries in descending order\n",
    "    \"\"\"\n",
    "    table = freq_table(dataset, index) #just replicating the dictionary we create from our function\n",
    "    table_display = [] #initializing new list\n",
    "    for key in table:\n",
    "        key_val_as_tuple = (table[key], key) #converts each dictionary entry into a tuple, with the value first, then the key\n",
    "        table_display.append(key_val_as_tuple) #appends the tuple to the list\n",
    "\n",
    "    table_sorted = sorted(table_display, reverse = True) #sorts the list. Reason above value comes first is so that value is sorted, not the key\n",
    "    for entry in table_sorted: #prints it in descending order, with key:value notation\n",
    "        print(entry[1], ':', entry[0])"
   ]
  },
  {
   "cell_type": "markdown",
   "metadata": {},
   "source": [
    "We first wrote a function that will take in a dataset and the index of the column you want to create the frequency table of. Then, this function will return a dictionary with all the percentages. So for example, we could use this to display all the genres and the percent they make up in the Apple App Store. \n",
    "\n",
    "The next function, provided by Dataquest, takes this dictionary of percentages, and prints out the whole dictionary in descending order.\n",
    "\n",
    "Time to test the functions on the Android and Apple App Stores. Reminder, we are looking at the following:\n",
    "1. Android Play Store:\n",
    "    * Category (index 1)\n",
    "    * Genres (index 9)\n",
    "2. Apple App Store:\n",
    "    * prime_genre (index -5)\n"
   ]
  },
  {
   "cell_type": "code",
   "execution_count": 19,
   "metadata": {},
   "outputs": [
    {
     "name": "stdout",
     "output_type": "stream",
     "text": [
      "The following data is the percentage of app categories present for Android Play Store:\n",
      "\n",
      "FAMILY : 18.907942238267147\n",
      "GAME : 9.724729241877256\n",
      "TOOLS : 8.461191335740072\n",
      "BUSINESS : 4.591606498194946\n",
      "LIFESTYLE : 3.9034296028880866\n",
      "PRODUCTIVITY : 3.892148014440433\n",
      "FINANCE : 3.7003610108303246\n",
      "MEDICAL : 3.531137184115524\n",
      "SPORTS : 3.395758122743682\n",
      "PERSONALIZATION : 3.3167870036101084\n",
      "COMMUNICATION : 3.2378158844765346\n",
      "HEALTH_AND_FITNESS : 3.0798736462093865\n",
      "PHOTOGRAPHY : 2.944494584837545\n",
      "NEWS_AND_MAGAZINES : 2.7978339350180503\n",
      "SOCIAL : 2.6624548736462095\n",
      "TRAVEL_AND_LOCAL : 2.33528880866426\n",
      "SHOPPING : 2.2450361010830324\n",
      "BOOKS_AND_REFERENCE : 2.1435018050541514\n",
      "DATING : 1.861462093862816\n",
      "VIDEO_PLAYERS : 1.7937725631768955\n",
      "MAPS_AND_NAVIGATION : 1.3989169675090252\n",
      "FOOD_AND_DRINK : 1.2409747292418771\n",
      "EDUCATION : 1.1620036101083033\n",
      "ENTERTAINMENT : 0.9589350180505415\n",
      "LIBRARIES_AND_DEMO : 0.9363718411552346\n",
      "AUTO_AND_VEHICLES : 0.9250902527075812\n",
      "HOUSE_AND_HOME : 0.8235559566787004\n",
      "WEATHER : 0.8009927797833934\n",
      "EVENTS : 0.7107400722021661\n",
      "PARENTING : 0.6543321299638989\n",
      "ART_AND_DESIGN : 0.6430505415162455\n",
      "COMICS : 0.6204873646209386\n",
      "BEAUTY : 0.5979241877256317\n",
      "\n",
      "\n",
      "The following data is the percentage of app genres present for Android Play Store:\n",
      "\n",
      "Tools : 8.449909747292418\n",
      "Entertainment : 6.069494584837545\n",
      "Education : 5.347472924187725\n",
      "Business : 4.591606498194946\n",
      "Productivity : 3.892148014440433\n",
      "Lifestyle : 3.892148014440433\n",
      "Finance : 3.7003610108303246\n",
      "Medical : 3.531137184115524\n",
      "Sports : 3.463447653429603\n",
      "Personalization : 3.3167870036101084\n",
      "Communication : 3.2378158844765346\n",
      "Action : 3.1024368231046933\n",
      "Health & Fitness : 3.0798736462093865\n",
      "Photography : 2.944494584837545\n",
      "News & Magazines : 2.7978339350180503\n",
      "Social : 2.6624548736462095\n",
      "Travel & Local : 2.3240072202166067\n",
      "Shopping : 2.2450361010830324\n",
      "Books & Reference : 2.1435018050541514\n",
      "Simulation : 2.0419675090252705\n",
      "Dating : 1.861462093862816\n",
      "Arcade : 1.8501805054151623\n",
      "Video Players & Editors : 1.7712093862815883\n",
      "Casual : 1.7599277978339352\n",
      "Maps & Navigation : 1.3989169675090252\n",
      "Food & Drink : 1.2409747292418771\n",
      "Puzzle : 1.128158844765343\n",
      "Racing : 0.9927797833935018\n",
      "Role Playing : 0.9363718411552346\n",
      "Libraries & Demo : 0.9363718411552346\n",
      "Auto & Vehicles : 0.9250902527075812\n",
      "Strategy : 0.9138086642599278\n",
      "House & Home : 0.8235559566787004\n",
      "Weather : 0.8009927797833934\n",
      "Events : 0.7107400722021661\n",
      "Adventure : 0.6768953068592057\n",
      "Comics : 0.6092057761732852\n",
      "Beauty : 0.5979241877256317\n",
      "Art & Design : 0.5979241877256317\n",
      "Parenting : 0.4963898916967509\n",
      "Card : 0.45126353790613716\n",
      "Casino : 0.42870036101083037\n",
      "Trivia : 0.41741877256317694\n",
      "Educational;Education : 0.39485559566787\n",
      "Board : 0.3835740072202166\n",
      "Educational : 0.3722924187725632\n",
      "Education;Education : 0.33844765342960287\n",
      "Word : 0.2594765342960289\n",
      "Casual;Pretend Play : 0.236913357400722\n",
      "Music : 0.2030685920577617\n",
      "Racing;Action & Adventure : 0.16922382671480143\n",
      "Puzzle;Brain Games : 0.16922382671480143\n",
      "Entertainment;Music & Video : 0.16922382671480143\n",
      "Casual;Brain Games : 0.13537906137184114\n",
      "Casual;Action & Adventure : 0.13537906137184114\n",
      "Arcade;Action & Adventure : 0.12409747292418773\n",
      "Action;Action & Adventure : 0.10153429602888085\n",
      "Educational;Pretend Play : 0.09025270758122744\n",
      "Simulation;Action & Adventure : 0.078971119133574\n",
      "Parenting;Education : 0.078971119133574\n",
      "Entertainment;Brain Games : 0.078971119133574\n",
      "Board;Brain Games : 0.078971119133574\n",
      "Parenting;Music & Video : 0.06768953068592057\n",
      "Educational;Brain Games : 0.06768953068592057\n",
      "Casual;Creativity : 0.06768953068592057\n",
      "Art & Design;Creativity : 0.06768953068592057\n",
      "Education;Pretend Play : 0.056407942238267145\n",
      "Role Playing;Pretend Play : 0.04512635379061372\n",
      "Education;Creativity : 0.04512635379061372\n",
      "Role Playing;Action & Adventure : 0.033844765342960284\n",
      "Puzzle;Action & Adventure : 0.033844765342960284\n",
      "Entertainment;Creativity : 0.033844765342960284\n",
      "Entertainment;Action & Adventure : 0.033844765342960284\n",
      "Educational;Creativity : 0.033844765342960284\n",
      "Educational;Action & Adventure : 0.033844765342960284\n",
      "Education;Music & Video : 0.033844765342960284\n",
      "Education;Brain Games : 0.033844765342960284\n",
      "Education;Action & Adventure : 0.033844765342960284\n",
      "Adventure;Action & Adventure : 0.033844765342960284\n",
      "Video Players & Editors;Music & Video : 0.02256317689530686\n",
      "Sports;Action & Adventure : 0.02256317689530686\n",
      "Simulation;Pretend Play : 0.02256317689530686\n",
      "Puzzle;Creativity : 0.02256317689530686\n",
      "Music;Music & Video : 0.02256317689530686\n",
      "Entertainment;Pretend Play : 0.02256317689530686\n",
      "Casual;Education : 0.02256317689530686\n",
      "Board;Action & Adventure : 0.02256317689530686\n",
      "Video Players & Editors;Creativity : 0.01128158844765343\n",
      "Trivia;Education : 0.01128158844765343\n",
      "Travel & Local;Action & Adventure : 0.01128158844765343\n",
      "Tools;Education : 0.01128158844765343\n",
      "Strategy;Education : 0.01128158844765343\n",
      "Strategy;Creativity : 0.01128158844765343\n",
      "Strategy;Action & Adventure : 0.01128158844765343\n",
      "Simulation;Education : 0.01128158844765343\n",
      "Role Playing;Brain Games : 0.01128158844765343\n",
      "Racing;Pretend Play : 0.01128158844765343\n",
      "Puzzle;Education : 0.01128158844765343\n",
      "Parenting;Brain Games : 0.01128158844765343\n",
      "Music & Audio;Music & Video : 0.01128158844765343\n",
      "Lifestyle;Pretend Play : 0.01128158844765343\n",
      "Lifestyle;Education : 0.01128158844765343\n",
      "Health & Fitness;Education : 0.01128158844765343\n",
      "Health & Fitness;Action & Adventure : 0.01128158844765343\n",
      "Entertainment;Education : 0.01128158844765343\n",
      "Communication;Creativity : 0.01128158844765343\n",
      "Comics;Creativity : 0.01128158844765343\n",
      "Casual;Music & Video : 0.01128158844765343\n",
      "Card;Action & Adventure : 0.01128158844765343\n",
      "Books & Reference;Education : 0.01128158844765343\n",
      "Art & Design;Pretend Play : 0.01128158844765343\n",
      "Art & Design;Action & Adventure : 0.01128158844765343\n",
      "Arcade;Pretend Play : 0.01128158844765343\n",
      "Adventure;Education : 0.01128158844765343\n"
     ]
    }
   ],
   "source": [
    "print(\"The following data is the percentage of app categories present for Android Play Store:\\n\")\n",
    "display_table(android_free, 1)\n",
    "print(\"\\n\")\n",
    "print(\"The following data is the percentage of app genres present for Android Play Store:\\n\")\n",
    "display_table(android_free,9)"
   ]
  },
  {
   "cell_type": "code",
   "execution_count": 20,
   "metadata": {},
   "outputs": [
    {
     "name": "stdout",
     "output_type": "stream",
     "text": [
      "The following data is the percentage of app genres present for Apple App Store:\n",
      "\n",
      "Games : 58.16263190564867\n",
      "Entertainment : 7.883302296710118\n",
      "Photo & Video : 4.9658597144630665\n",
      "Education : 3.662321539416512\n",
      "Social Networking : 3.2898820608317814\n",
      "Shopping : 2.60707635009311\n",
      "Utilities : 2.5139664804469275\n",
      "Sports : 2.1415270018621975\n",
      "Music : 2.0484171322160147\n",
      "Health & Fitness : 2.0173805090006205\n",
      "Productivity : 1.7380509000620732\n",
      "Lifestyle : 1.5828677839851024\n",
      "News : 1.3345747982619491\n",
      "Travel : 1.2414649286157666\n",
      "Finance : 1.1173184357541899\n",
      "Weather : 0.8690254500310366\n",
      "Food & Drink : 0.8069522036002483\n",
      "Reference : 0.5586592178770949\n",
      "Business : 0.5276225946617008\n",
      "Book : 0.4345127250155183\n",
      "Navigation : 0.186219739292365\n",
      "Medical : 0.186219739292365\n",
      "Catalogs : 0.12414649286157665\n"
     ]
    }
   ],
   "source": [
    "print(\"The following data is the percentage of app genres present for Apple App Store:\\n\")\n",
    "display_table(apple_free, -5)"
   ]
  },
  {
   "cell_type": "markdown",
   "metadata": {},
   "source": [
    "From above, we can surmise the following about the respective App stores:\n",
    "\n",
    "1. For Android Apps, almost 19% of the apps fall under the 'FAMILY' category. Almosr 9% of the apps fall under the 'Tools' genre.\n",
    "2. For Apple Apps, just more than half of the apps fall under the 'Games' genre."
   ]
  },
  {
   "cell_type": "markdown",
   "metadata": {},
   "source": [
    "A more detailed analysis of the App stores reveals the following about the apps:\n",
    "The most common category for Android apps seen is the Family category. This is followed by Games, and then Tools, Business, Lifestyle, etc. While, in the Apple App Store, we see that Games dominate more than half of the categories in the English apps. In both the cases, we do not see that the most number of apps are developed for practical purposes. We see that most apps seem to be developed for fun stuff.\n",
    "\n",
    "However, we do see more of the 'useful/practical' categories in the Android Play Store. We do see that no app category domincates even half of the total apps, and compared to the Apple App Store, the 'useful/practical' apps seem to have a higher share. This is further confirmed when we look at the genres in the Android Store. In the genres, tools dominate over fun apps."
   ]
  },
  {
   "cell_type": "markdown",
   "metadata": {},
   "source": [
    "### Most Popular Apps by Genre for the Apple App Store"
   ]
  },
  {
   "cell_type": "markdown",
   "metadata": {},
   "source": [
    "Since the number of apps in each category does not really tell us if those are the apps that are most used or downloaded, we will use the average number of user ratings for the apps to see which genre has the highest average rating.\n",
    "\n",
    "In order to do so, we will iterate over the genres, and then using the ratings for each apps, and checking what genre it is, append this to a new dictionary."
   ]
  },
  {
   "cell_type": "code",
   "execution_count": 21,
   "metadata": {},
   "outputs": [
    {
     "name": "stdout",
     "output_type": "stream",
     "text": [
      "Social Networking : 71548.34905660378\n",
      "Photo & Video : 28441.54375\n",
      "Games : 22788.6696905016\n",
      "Music : 57326.530303030304\n",
      "Reference : 74942.11111111111\n",
      "Health & Fitness : 23298.015384615384\n",
      "Weather : 52279.892857142855\n",
      "Utilities : 18684.456790123455\n",
      "Travel : 28243.8\n",
      "Shopping : 26919.690476190477\n",
      "News : 21248.023255813954\n",
      "Navigation : 86090.33333333333\n",
      "Lifestyle : 16485.764705882353\n",
      "Entertainment : 14029.830708661417\n",
      "Food & Drink : 33333.92307692308\n",
      "Sports : 23008.898550724636\n",
      "Book : 39758.5\n",
      "Finance : 31467.944444444445\n",
      "Education : 7003.983050847458\n",
      "Productivity : 21028.410714285714\n",
      "Business : 7491.117647058823\n",
      "Catalogs : 4004.0\n",
      "Medical : 612.0\n"
     ]
    }
   ],
   "source": [
    "# We start by generating a frequency table for the unique genres using the function we wrote before.\n",
    "\n",
    "apple_genres = freq_table(apple_free, -5)\n",
    "'''\n",
    "We start off by taking every genre, and the total number of ratings is zero.\n",
    "The number of apps in that genre are zero also.\n",
    "\n",
    "Then we compare the main dataset, and every time we see that in the loop of the main dataset, the genre matches that of our first loop,\n",
    "we take the ratings of that app, and we add it to the total for that genre\n",
    "and we add one to the length of that genre, to show how many apps belong to the genre.\n",
    "\n",
    "The genre_and_rating dictionary keeps filling after every loop.\n",
    "'''\n",
    "apple_genre_and_rating = {}\n",
    "for genre in apple_genres:\n",
    "    total = 0 # total number of ratings, per genre\n",
    "    \n",
    "    len_genre = 0 #number of apps in each genre\n",
    "    \n",
    "    for app in apple_free:\n",
    "        genre_app = app[-5]\n",
    "        \n",
    "        if genre_app == genre:\n",
    "            n_ratings = float(app[5])\n",
    "            total += n_ratings\n",
    "            len_genre += 1\n",
    "    average = total / len_genre\n",
    "    \n",
    "    apple_genre_and_rating[genre] = average\n",
    "    \n",
    "    print(genre, ':', average)\n",
    "#print(genre_and_rating)\n",
    "    "
   ]
  },
  {
   "cell_type": "markdown",
   "metadata": {},
   "source": [
    "From our analysis of the genres of the apps in the Apple App Store, it seems that the Navigation has the most number of average ratings. Reference apps seem to follow this and then followed by Social Networking.\n",
    "\n",
    "To see which apps are dominating the ratings, we can use a loop to check this out.\n"
   ]
  },
  {
   "cell_type": "code",
   "execution_count": 22,
   "metadata": {},
   "outputs": [
    {
     "name": "stdout",
     "output_type": "stream",
     "text": [
      "These are the ratings for the apps in the Navigation genre:\n",
      "\n",
      "Waze - GPS Navigation, Maps & Real-time Traffic: 345046\n",
      "Google Maps - Navigation & Transit: 154911\n",
      "Geocaching®: 12811\n",
      "CoPilot GPS – Car Navigation & Offline Maps: 3582\n",
      "ImmobilienScout24: Real Estate Search in Germany: 187\n",
      "Railway Route Search: 5\n"
     ]
    }
   ],
   "source": [
    "#In the Navigation genre, let's see which apps have the highest ratings.\n",
    "print(\"These are the ratings for the apps in the Navigation genre:\\n\")\n",
    "for app in apple_free:\n",
    "    genre = app[-5]\n",
    "    if genre == \"Navigation\":\n",
    "        print(app[1] + \": \" + app[5])"
   ]
  },
  {
   "cell_type": "code",
   "execution_count": 23,
   "metadata": {},
   "outputs": [
    {
     "name": "stdout",
     "output_type": "stream",
     "text": [
      "Bible: 985920\n",
      "Dictionary.com Dictionary & Thesaurus: 200047\n",
      "Dictionary.com Dictionary & Thesaurus for iPad: 54175\n",
      "Google Translate: 26786\n",
      "Muslim Pro: Ramadan 2017 Prayer Times, Azan, Quran: 18418\n",
      "New Furniture Mods - Pocket Wiki & Game Tools for Minecraft PC Edition: 17588\n",
      "Merriam-Webster Dictionary: 16849\n",
      "Night Sky: 12122\n",
      "City Maps for Minecraft PE - The Best Maps for Minecraft Pocket Edition (MCPE): 8535\n",
      "LUCKY BLOCK MOD ™ for Minecraft PC Edition - The Best Pocket Wiki & Mods Installer Tools: 4693\n",
      "GUNS MODS for Minecraft PC Edition - Mods Tools: 1497\n",
      "Guides for Pokémon GO - Pokemon GO News and Cheats: 826\n",
      "WWDC: 762\n",
      "Horror Maps for Minecraft PE - Download The Scariest Maps for Minecraft Pocket Edition (MCPE) Free: 718\n",
      "VPN Express: 14\n",
      "Real Bike Traffic Rider Virtual Reality Glasses: 8\n",
      "教えて!goo: 0\n",
      "Jishokun-Japanese English Dictionary & Translator: 0\n"
     ]
    }
   ],
   "source": [
    "#In the Reference genre, let's see which apps have the highest ratings.\n",
    "\n",
    "for app in apple_free:\n",
    "    genre = app[-5]\n",
    "    if genre == \"Reference\":\n",
    "        print(app[1] + \": \" + app[5])"
   ]
  },
  {
   "cell_type": "markdown",
   "metadata": {},
   "source": [
    "It seems as if 'Waze' and 'Google Maps' dominate the Navigation category, and 'Bible' and 'Dictionary' dominate the reference category.\n",
    "\n",
    "My recommendation, for the Apple App Store, would be to develop a refence app. Maybe this app could be a translation of the Bible from one language to another, sort of combining the Bible and Dictionary ideas. \n",
    "\n",
    "Reason for this recommendation: Navigation apps seem to be controlled by 'Waze' and 'Google Maps'. Both these apps are owned by Google, a supergiant, which we as a startup would have to invest a significant amout to develop."
   ]
  },
  {
   "cell_type": "markdown",
   "metadata": {},
   "source": [
    "### Most Popular Apps by Genre on Google Play"
   ]
  },
  {
   "cell_type": "markdown",
   "metadata": {},
   "source": [
    "For the Android Google Play App Store, we have some data of the number of downloads for each app. Using this, we can usu a similar approach to the one for the Apple Store, where we can use the average number of downloads to determine the popularity of genres."
   ]
  },
  {
   "cell_type": "code",
   "execution_count": 24,
   "metadata": {},
   "outputs": [
    {
     "name": "stdout",
     "output_type": "stream",
     "text": [
      "ART_AND_DESIGN: 1986335.0877192982\n",
      "AUTO_AND_VEHICLES: 647317.8170731707\n",
      "BEAUTY: 513151.88679245283\n",
      "BOOKS_AND_REFERENCE: 8767811.894736841\n",
      "BUSINESS: 1712290.1474201474\n",
      "COMICS: 817657.2727272727\n",
      "COMMUNICATION: 38456119.167247385\n",
      "DATING: 854028.8303030303\n",
      "EDUCATION: 1833495.145631068\n",
      "ENTERTAINMENT: 11640705.88235294\n",
      "EVENTS: 253542.22222222222\n",
      "FINANCE: 1387692.475609756\n",
      "FOOD_AND_DRINK: 1924897.7363636363\n",
      "HEALTH_AND_FITNESS: 4188821.9853479853\n",
      "HOUSE_AND_HOME: 1331540.5616438356\n",
      "LIBRARIES_AND_DEMO: 638503.734939759\n",
      "LIFESTYLE: 1437816.2687861272\n",
      "GAME: 15588015.603248259\n",
      "FAMILY: 3695641.8198090694\n",
      "MEDICAL: 120550.61980830671\n",
      "SOCIAL: 23253652.127118643\n",
      "SHOPPING: 7036877.311557789\n",
      "PHOTOGRAPHY: 17840110.40229885\n",
      "SPORTS: 3638640.1428571427\n",
      "TRAVEL_AND_LOCAL: 13984077.710144928\n",
      "TOOLS: 10801391.298666667\n",
      "PERSONALIZATION: 5201482.6122448975\n",
      "PRODUCTIVITY: 16787331.344927534\n",
      "PARENTING: 542603.6206896552\n",
      "WEATHER: 5074486.197183099\n",
      "VIDEO_PLAYERS: 24727872.452830188\n",
      "NEWS_AND_MAGAZINES: 9549178.467741935\n",
      "MAPS_AND_NAVIGATION: 4056941.7741935486\n"
     ]
    }
   ],
   "source": [
    "android_categories = freq_table(android_free, 1)\n",
    "android_category_and_downloads = {}\n",
    "for category in android_categories:\n",
    "    total = 0\n",
    "    len_category = 0\n",
    "    \n",
    "    for app in android_free:\n",
    "        category_app = app[1]\n",
    "        \n",
    "        if category_app == category:\n",
    "            n_install = app[5]\n",
    "            n_install = n_install.replace('+', '')\n",
    "            n_install = n_install.replace(',', '')\n",
    "            n_install = float(n_install)\n",
    "            total += n_install\n",
    "            len_category += 1\n",
    "            \n",
    "    average = total / len_category\n",
    "    android_category_and_downloads[category] = average\n",
    "    print(category + \": \" + str(average))\n",
    "            "
   ]
  },
  {
   "cell_type": "code",
   "execution_count": null,
   "metadata": {},
   "outputs": [],
   "source": []
  }
 ],
 "metadata": {
  "kernelspec": {
   "display_name": "Python 3",
   "language": "python",
   "name": "python3"
  },
  "language_info": {
   "codemirror_mode": {
    "name": "ipython",
    "version": 3
   },
   "file_extension": ".py",
   "mimetype": "text/x-python",
   "name": "python",
   "nbconvert_exporter": "python",
   "pygments_lexer": "ipython3",
   "version": "3.8.5"
  }
 },
 "nbformat": 4,
 "nbformat_minor": 4
}
